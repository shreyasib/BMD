{
 "cells": [
  {
   "cell_type": "code",
   "execution_count": 232,
   "metadata": {},
   "outputs": [],
   "source": [
    "import pandas as pd\n",
    "import numpy as np\n",
    "import seaborn as sns\n",
    "import matplotlib.pyplot as plt\n",
    "\n",
    "\n",
    "from sklearn.preprocessing import MinMaxScaler\n",
    "from sklearn.neighbors import KNeighborsClassifier\n",
    "\n",
    "\n",
    "from sklearn import metrics\n",
    "from sklearn.metrics import confusion_matrix, accuracy_score, classification_report"
   ]
  },
  {
   "cell_type": "code",
   "execution_count": 233,
   "metadata": {},
   "outputs": [
    {
     "data": {
      "text/html": [
       "<div>\n",
       "<style scoped>\n",
       "    .dataframe tbody tr th:only-of-type {\n",
       "        vertical-align: middle;\n",
       "    }\n",
       "\n",
       "    .dataframe tbody tr th {\n",
       "        vertical-align: top;\n",
       "    }\n",
       "\n",
       "    .dataframe thead th {\n",
       "        text-align: right;\n",
       "    }\n",
       "</style>\n",
       "<table border=\"1\" class=\"dataframe\">\n",
       "  <thead>\n",
       "    <tr style=\"text-align: right;\">\n",
       "      <th></th>\n",
       "      <th>id</th>\n",
       "      <th>age</th>\n",
       "      <th>weight_kg</th>\n",
       "      <th>height_cm</th>\n",
       "      <th>bmd</th>\n",
       "      <th>fracture</th>\n",
       "    </tr>\n",
       "  </thead>\n",
       "  <tbody>\n",
       "    <tr>\n",
       "      <th>0</th>\n",
       "      <td>469</td>\n",
       "      <td>57.052768</td>\n",
       "      <td>64.0</td>\n",
       "      <td>155.5</td>\n",
       "      <td>0.8793</td>\n",
       "      <td>no fracture</td>\n",
       "    </tr>\n",
       "    <tr>\n",
       "      <th>1</th>\n",
       "      <td>8724</td>\n",
       "      <td>75.741225</td>\n",
       "      <td>78.0</td>\n",
       "      <td>162.0</td>\n",
       "      <td>0.7946</td>\n",
       "      <td>no fracture</td>\n",
       "    </tr>\n",
       "    <tr>\n",
       "      <th>2</th>\n",
       "      <td>6736</td>\n",
       "      <td>70.778900</td>\n",
       "      <td>73.0</td>\n",
       "      <td>170.5</td>\n",
       "      <td>0.9067</td>\n",
       "      <td>no fracture</td>\n",
       "    </tr>\n",
       "    <tr>\n",
       "      <th>3</th>\n",
       "      <td>24180</td>\n",
       "      <td>78.247175</td>\n",
       "      <td>60.0</td>\n",
       "      <td>148.0</td>\n",
       "      <td>0.7112</td>\n",
       "      <td>no fracture</td>\n",
       "    </tr>\n",
       "    <tr>\n",
       "      <th>4</th>\n",
       "      <td>17072</td>\n",
       "      <td>54.191877</td>\n",
       "      <td>55.0</td>\n",
       "      <td>161.0</td>\n",
       "      <td>0.7909</td>\n",
       "      <td>no fracture</td>\n",
       "    </tr>\n",
       "  </tbody>\n",
       "</table>\n",
       "</div>"
      ],
      "text/plain": [
       "      id        age  weight_kg  height_cm     bmd     fracture\n",
       "0    469  57.052768       64.0      155.5  0.8793  no fracture\n",
       "1   8724  75.741225       78.0      162.0  0.7946  no fracture\n",
       "2   6736  70.778900       73.0      170.5  0.9067  no fracture\n",
       "3  24180  78.247175       60.0      148.0  0.7112  no fracture\n",
       "4  17072  54.191877       55.0      161.0  0.7909  no fracture"
      ]
     },
     "execution_count": 233,
     "metadata": {},
     "output_type": "execute_result"
    }
   ],
   "source": [
    "# Load the dataset\n",
    "df = pd.read_csv('BMD-1.csv')\n",
    "df.head()"
   ]
  },
  {
   "cell_type": "code",
   "execution_count": 277,
   "metadata": {},
   "outputs": [
    {
     "data": {
      "text/plain": [
       "id           0\n",
       "age          0\n",
       "weight_kg    0\n",
       "height_cm    0\n",
       "bmd          0\n",
       "fracture     0\n",
       "dtype: int64"
      ]
     },
     "execution_count": 277,
     "metadata": {},
     "output_type": "execute_result"
    }
   ],
   "source": [
    "# Check for missing values \n",
    "df.isna().sum()"
   ]
  },
  {
   "cell_type": "code",
   "execution_count": 234,
   "metadata": {},
   "outputs": [],
   "source": [
    "# Set Features and Target Variable\n",
    "x = df[['age', 'weight_kg','height_cm','bmd']]\n",
    "y = df['fracture']"
   ]
  },
  {
   "cell_type": "markdown",
   "metadata": {},
   "source": [
    "# Normalize the dataset"
   ]
  },
  {
   "cell_type": "code",
   "execution_count": 235,
   "metadata": {},
   "outputs": [
    {
     "name": "stdout",
     "output_type": "stream",
     "text": [
      "        id       age  weight_kg  height_cm       bmd     fracture\n",
      "0      469  0.401187   0.466667   0.385714  0.494030  no fracture\n",
      "1     8724  0.754200   0.700000   0.571429  0.405320  no fracture\n",
      "2     6736  0.660465   0.616667   0.814286  0.522727  no fracture\n",
      "3    24180  0.801536   0.400000   0.171429  0.317972  no fracture\n",
      "4    17072  0.347146   0.316667   0.542857  0.401445  no fracture\n",
      "..     ...       ...        ...        ...       ...          ...\n",
      "164  21892  0.796537   0.633333   0.628571  0.404797     fracture\n",
      "165  24140  0.273353   0.383333   0.542857  0.407939     fracture\n",
      "166   6969  0.199201   0.516667   0.771429  0.414851     fracture\n",
      "167   5505  0.358413   0.566667   0.685714  0.418517     fracture\n",
      "168     71  0.645654   0.541667   0.657143  0.480519     fracture\n",
      "\n",
      "[169 rows x 6 columns]\n"
     ]
    }
   ],
   "source": [
    "from sklearn.preprocessing import MinMaxScaler\n",
    "\n",
    "min_max_scale = MinMaxScaler()\n",
    "df[['age', 'weight_kg','height_cm','bmd']] = min_max_scale.fit_transform(df[['age', 'weight_kg','height_cm','bmd']])\n",
    "\n",
    "print(df)"
   ]
  },
  {
   "cell_type": "markdown",
   "metadata": {},
   "source": [
    "The resulting normalized values represent the original data on 0 to 1 scale.\n",
    "So, 'age', 'weight_kg','height_cm','bmd' will all be on the same scale after normalization.\n",
    "\n",
    "NOTE: In min-max normalization, the min value gets transformed into 0 and the max value gets transformed into 1. All values in-between get scaled to be within 0-1 range based on the original value relative to min and max values of the dataset. \n"
   ]
  },
  {
   "cell_type": "code",
   "execution_count": 236,
   "metadata": {},
   "outputs": [
    {
     "data": {
      "text/plain": [
       "no fracture    119\n",
       "fracture        50\n",
       "Name: fracture, dtype: int64"
      ]
     },
     "execution_count": 236,
     "metadata": {},
     "output_type": "execute_result"
    }
   ],
   "source": [
    "# To see the distribution of the dataset.\n",
    "df.fracture.value_counts()"
   ]
  },
  {
   "cell_type": "markdown",
   "metadata": {},
   "source": [
    "#### Imbalanced dataset - 119 and 50. One class has more weight than the other class. \n",
    "\n",
    "To handle imbalanced dataset, we can:\n",
    "1. Reduce the size of larger class\n",
    "2. Add to smaller class\n",
    "\n",
    "#### In this analysis, we will reduce the size of larger class."
   ]
  },
  {
   "cell_type": "code",
   "execution_count": 237,
   "metadata": {},
   "outputs": [
    {
     "data": {
      "text/html": [
       "<div>\n",
       "<style scoped>\n",
       "    .dataframe tbody tr th:only-of-type {\n",
       "        vertical-align: middle;\n",
       "    }\n",
       "\n",
       "    .dataframe tbody tr th {\n",
       "        vertical-align: top;\n",
       "    }\n",
       "\n",
       "    .dataframe thead th {\n",
       "        text-align: right;\n",
       "    }\n",
       "</style>\n",
       "<table border=\"1\" class=\"dataframe\">\n",
       "  <thead>\n",
       "    <tr style=\"text-align: right;\">\n",
       "      <th></th>\n",
       "      <th>id</th>\n",
       "      <th>age</th>\n",
       "      <th>weight_kg</th>\n",
       "      <th>height_cm</th>\n",
       "      <th>bmd</th>\n",
       "      <th>fracture</th>\n",
       "    </tr>\n",
       "  </thead>\n",
       "  <tbody>\n",
       "    <tr>\n",
       "      <th>68</th>\n",
       "      <td>8896</td>\n",
       "      <td>0.298122</td>\n",
       "      <td>0.300000</td>\n",
       "      <td>0.342857</td>\n",
       "      <td>0.385316</td>\n",
       "      <td>no fracture</td>\n",
       "    </tr>\n",
       "    <tr>\n",
       "      <th>111</th>\n",
       "      <td>23790</td>\n",
       "      <td>0.314778</td>\n",
       "      <td>0.383333</td>\n",
       "      <td>0.242857</td>\n",
       "      <td>0.339129</td>\n",
       "      <td>no fracture</td>\n",
       "    </tr>\n",
       "    <tr>\n",
       "      <th>40</th>\n",
       "      <td>55</td>\n",
       "      <td>0.706773</td>\n",
       "      <td>0.266667</td>\n",
       "      <td>0.314286</td>\n",
       "      <td>0.319648</td>\n",
       "      <td>no fracture</td>\n",
       "    </tr>\n",
       "    <tr>\n",
       "      <th>49</th>\n",
       "      <td>5509</td>\n",
       "      <td>0.775407</td>\n",
       "      <td>0.866667</td>\n",
       "      <td>0.714286</td>\n",
       "      <td>0.622015</td>\n",
       "      <td>no fracture</td>\n",
       "    </tr>\n",
       "    <tr>\n",
       "      <th>83</th>\n",
       "      <td>8999</td>\n",
       "      <td>0.461327</td>\n",
       "      <td>0.566667</td>\n",
       "      <td>0.457143</td>\n",
       "      <td>0.448890</td>\n",
       "      <td>no fracture</td>\n",
       "    </tr>\n",
       "  </tbody>\n",
       "</table>\n",
       "</div>"
      ],
      "text/plain": [
       "        id       age  weight_kg  height_cm       bmd     fracture\n",
       "68    8896  0.298122   0.300000   0.342857  0.385316  no fracture\n",
       "111  23790  0.314778   0.383333   0.242857  0.339129  no fracture\n",
       "40      55  0.706773   0.266667   0.314286  0.319648  no fracture\n",
       "49    5509  0.775407   0.866667   0.714286  0.622015  no fracture\n",
       "83    8999  0.461327   0.566667   0.457143  0.448890  no fracture"
      ]
     },
     "execution_count": 237,
     "metadata": {},
     "output_type": "execute_result"
    }
   ],
   "source": [
    "df_majority = df[df['fracture'] == 'no fracture']\n",
    "df_minority = df[df['fracture'] == 'fracture']\n",
    "\n",
    "\n",
    "from sklearn.utils import resample\n",
    "\n",
    "df_majority_downsampled = resample(df_majority, replace=False, n_samples=len(df_minority), random_state=96) \n",
    "\n",
    "# Combining minority class with downsampled majority class\n",
    "df_downsampled = pd.concat([df_majority_downsampled, df_minority])\n",
    "df_downsampled.head()"
   ]
  },
  {
   "cell_type": "code",
   "execution_count": 238,
   "metadata": {},
   "outputs": [
    {
     "data": {
      "text/plain": [
       "no fracture    50\n",
       "fracture       50\n",
       "Name: fracture, dtype: int64"
      ]
     },
     "execution_count": 238,
     "metadata": {},
     "output_type": "execute_result"
    }
   ],
   "source": [
    "df_downsampled.fracture.value_counts()"
   ]
  },
  {
   "cell_type": "markdown",
   "metadata": {},
   "source": [
    "#### Now we have a perfectly balanced data."
   ]
  },
  {
   "cell_type": "markdown",
   "metadata": {},
   "source": [
    "# Converting Categorical into Numeric to generate a correlation heatmap for this dataset\n",
    "\n",
    "One-Hot-Encoding: Useful for data that has no relationship to each other. ML algo will read a higher number as better/more important than a lower number. While helpful for ordinal situations, orher input data do not have any ranking for category values, and this can lead to issues with predictions and poor performance. Hence, one hot encoding.\n",
    "\n",
    "Reference: https://www.educative.io/blog/one-hot-encoding\n"
   ]
  },
  {
   "cell_type": "code",
   "execution_count": 241,
   "metadata": {},
   "outputs": [
    {
     "data": {
      "text/html": [
       "<div>\n",
       "<style scoped>\n",
       "    .dataframe tbody tr th:only-of-type {\n",
       "        vertical-align: middle;\n",
       "    }\n",
       "\n",
       "    .dataframe tbody tr th {\n",
       "        vertical-align: top;\n",
       "    }\n",
       "\n",
       "    .dataframe thead th {\n",
       "        text-align: right;\n",
       "    }\n",
       "</style>\n",
       "<table border=\"1\" class=\"dataframe\">\n",
       "  <thead>\n",
       "    <tr style=\"text-align: right;\">\n",
       "      <th></th>\n",
       "      <th>id</th>\n",
       "      <th>age</th>\n",
       "      <th>weight_kg</th>\n",
       "      <th>height_cm</th>\n",
       "      <th>bmd</th>\n",
       "      <th>fracture_fracture</th>\n",
       "      <th>fracture_no fracture</th>\n",
       "    </tr>\n",
       "  </thead>\n",
       "  <tbody>\n",
       "    <tr>\n",
       "      <th>68</th>\n",
       "      <td>8896</td>\n",
       "      <td>0.298122</td>\n",
       "      <td>0.300000</td>\n",
       "      <td>0.342857</td>\n",
       "      <td>0.385316</td>\n",
       "      <td>0</td>\n",
       "      <td>1</td>\n",
       "    </tr>\n",
       "    <tr>\n",
       "      <th>111</th>\n",
       "      <td>23790</td>\n",
       "      <td>0.314778</td>\n",
       "      <td>0.383333</td>\n",
       "      <td>0.242857</td>\n",
       "      <td>0.339129</td>\n",
       "      <td>0</td>\n",
       "      <td>1</td>\n",
       "    </tr>\n",
       "    <tr>\n",
       "      <th>40</th>\n",
       "      <td>55</td>\n",
       "      <td>0.706773</td>\n",
       "      <td>0.266667</td>\n",
       "      <td>0.314286</td>\n",
       "      <td>0.319648</td>\n",
       "      <td>0</td>\n",
       "      <td>1</td>\n",
       "    </tr>\n",
       "    <tr>\n",
       "      <th>49</th>\n",
       "      <td>5509</td>\n",
       "      <td>0.775407</td>\n",
       "      <td>0.866667</td>\n",
       "      <td>0.714286</td>\n",
       "      <td>0.622015</td>\n",
       "      <td>0</td>\n",
       "      <td>1</td>\n",
       "    </tr>\n",
       "    <tr>\n",
       "      <th>83</th>\n",
       "      <td>8999</td>\n",
       "      <td>0.461327</td>\n",
       "      <td>0.566667</td>\n",
       "      <td>0.457143</td>\n",
       "      <td>0.448890</td>\n",
       "      <td>0</td>\n",
       "      <td>1</td>\n",
       "    </tr>\n",
       "  </tbody>\n",
       "</table>\n",
       "</div>"
      ],
      "text/plain": [
       "        id       age  weight_kg  height_cm       bmd  fracture_fracture  \\\n",
       "68    8896  0.298122   0.300000   0.342857  0.385316                  0   \n",
       "111  23790  0.314778   0.383333   0.242857  0.339129                  0   \n",
       "40      55  0.706773   0.266667   0.314286  0.319648                  0   \n",
       "49    5509  0.775407   0.866667   0.714286  0.622015                  0   \n",
       "83    8999  0.461327   0.566667   0.457143  0.448890                  0   \n",
       "\n",
       "     fracture_no fracture  \n",
       "68                      1  \n",
       "111                     1  \n",
       "40                      1  \n",
       "49                      1  \n",
       "83                      1  "
      ]
     },
     "execution_count": 241,
     "metadata": {},
     "output_type": "execute_result"
    }
   ],
   "source": [
    "# One-hot encoding the 'fracture' column\n",
    "df_encoded = pd.get_dummies(df_downsampled, columns=['fracture'])\n",
    "df_encoded.head()"
   ]
  },
  {
   "cell_type": "markdown",
   "metadata": {},
   "source": [
    "### Exploratory Data Analysis"
   ]
  },
  {
   "cell_type": "code",
   "execution_count": 243,
   "metadata": {},
   "outputs": [
    {
     "data": {
      "image/png": "[encoded data removed]",
      "text/plain": [
       "<Figure size 1152x576 with 2 Axes>"
      ]
     },
     "metadata": {
      "needs_background": "light"
     },
     "output_type": "display_data"
    }
   ],
   "source": [
    "plt.figure(figsize=(16,8))\n",
    "sns.heatmap(df_encoded.corr(),annot=True, cmap='coolwarm')\n",
    "plt.show()"
   ]
  },
  {
   "cell_type": "markdown",
   "metadata": {},
   "source": [
    "Heatmap shows the correlation coeff between each pair of columns. Values range from -1 to 1.\n",
    "* -1, perfect negative correlation\n",
    "* 0, no correlation\n",
    "* 1, perfect positive correlation. \n",
    "\n",
    "### In our plot, we can see that:\n",
    "\n",
    "* There is a strong positive correlation between bmd and no fracture (0.68), indicatng that individuals with higher BMD are more likely to get no fractures. So, lower the BMD, more likely to get fractures.\n",
    "\n",
    "* There is a positive correlation between age and fracture (0.36), indicating that older individuals are more likely to get fractures. \n",
    "\n",
    "* There is a  positive correlation between weight and no fracture (0.36), suggesting that heavier individuals may be less prone to fractures.\n",
    " \n",
    "\n",
    "\n"
   ]
  },
  {
   "cell_type": "code",
   "execution_count": 244,
   "metadata": {},
   "outputs": [
    {
     "name": "stderr",
     "output_type": "stream",
     "text": [
      "/opt/conda/lib/python3.8/site-packages/seaborn/_decorators.py:36: FutureWarning: Pass the following variables as keyword args: x, y. From version 0.12, the only valid positional argument will be `data`, and passing other arguments without an explicit keyword will result in an error or misinterpretation.\n",
      "  warnings.warn(\n"
     ]
    },
    {
     "data": {
      "image/png": "[encoded data removed]",
      "text/plain": [
       "<Figure size 720x432 with 1 Axes>"
      ]
     },
     "metadata": {
      "needs_background": "light"
     },
     "output_type": "display_data"
    }
   ],
   "source": [
    "#EDA\n",
    "plt.figure(figsize=(10,6))\n",
    "\n",
    "sns.scatterplot(df_downsampled.bmd, df_downsampled.age, hue=df_downsampled.fracture)\n",
    "plt.show()"
   ]
  },
  {
   "cell_type": "markdown",
   "metadata": {},
   "source": [
    "* We observe that individuals who have got fractures are more likely to be older and have lower BMD."
   ]
  },
  {
   "cell_type": "code",
   "execution_count": 246,
   "metadata": {},
   "outputs": [
    {
     "name": "stderr",
     "output_type": "stream",
     "text": [
      "/opt/conda/lib/python3.8/site-packages/seaborn/_decorators.py:36: FutureWarning: Pass the following variables as keyword args: x, y. From version 0.12, the only valid positional argument will be `data`, and passing other arguments without an explicit keyword will result in an error or misinterpretation.\n",
      "  warnings.warn(\n"
     ]
    },
    {
     "data": {
      "image/png": "[encoded data removed]",
      "text/plain": [
       "<Figure size 720x432 with 1 Axes>"
      ]
     },
     "metadata": {
      "needs_background": "light"
     },
     "output_type": "display_data"
    }
   ],
   "source": [
    "#EDA\n",
    "plt.figure(figsize=(10,6))\n",
    "\n",
    "sns.scatterplot(df_downsampled.bmd, df_downsampled.weight_kg, hue=df_downsampled.fracture)\n",
    "plt.show()"
   ]
  },
  {
   "cell_type": "markdown",
   "metadata": {},
   "source": [
    "* We observe that individuals who are categorized as \"No Fracture\" are more likely to have a higher weight compared to those who have a fracture."
   ]
  },
  {
   "cell_type": "markdown",
   "metadata": {},
   "source": [
    "# Split to X & Y "
   ]
  },
  {
   "cell_type": "code",
   "execution_count": 247,
   "metadata": {},
   "outputs": [],
   "source": [
    "# Set Features and Target Variable\n",
    "x = df_downsampled[['age', 'weight_kg','height_cm','bmd']]\n",
    "y = df_downsampled['fracture']"
   ]
  },
  {
   "cell_type": "markdown",
   "metadata": {},
   "source": [
    "# KNN\n",
    "\n",
    "* Supervised method - to help you determine how to classify\n",
    "* Uses proximity to make predictions\n",
    "* Goal: to identify the nearest neighbors of the new data point, so we can determine the class to which we will assign the new dat point to \n",
    "\n",
    "\n",
    "#### Difference between Logistic & KNN:\n",
    "* LR: Selecting regulator ie Ridge/Lasso\n",
    "* KNN: User has to input parameter 'k'\n"
   ]
  },
  {
   "cell_type": "markdown",
   "metadata": {},
   "source": [
    "# Determine K value \n",
    "\n",
    "* How many neighbors will we check to determine the classification of the new data point.\n",
    "* Different values can lead to overfitting or underfitting.\n",
    "\n",
    "##### NOTE:\n",
    "* Can't choose 1. Too small & limiting. \n",
    "* Next 2. Even numbers are generally avoided as you cannot pick one of the two classification decidedly. Hence, it is advisable to pick odd number so we can pick the class with more..\n",
    "\n",
    "## To determine 'k', there are 2 methods:\n",
    "\n",
    "#### 1. Square root of N (N = number of samples) - Traditional method\n",
    "\n",
    "* Used more as a starting point\n",
    "\n",
    "For eg, in our dataset we have 100 observations after downsampling. So, the square root of 100 is 10. So we start with k = 10.  We will also check for 9 and 11.\n",
    "\n",
    "\n",
    "#### 2. Derive a plot between Error rate and K denoting values in a defined range. Then choose the K value with a minimum error rate.\n",
    "\n",
    "\n",
    "\n",
    "\n",
    "\n",
    "\n"
   ]
  },
  {
   "cell_type": "markdown",
   "metadata": {},
   "source": [
    "# METHOD 1 (Square root of N)\n",
    "\n",
    "##### Checking accuracy with 3 different values of K: 10, 9, 11"
   ]
  },
  {
   "cell_type": "markdown",
   "metadata": {},
   "source": [
    "### Create the KNN model"
   ]
  },
  {
   "cell_type": "code",
   "execution_count": 248,
   "metadata": {},
   "outputs": [],
   "source": [
    "# Set the number of nearest neighbors to consider\n",
    "k = 10  \n",
    "knn = KNeighborsClassifier(n_neighbors=k, metric='euclidean')"
   ]
  },
  {
   "cell_type": "markdown",
   "metadata": {},
   "source": [
    "# Common distances metrics used:\n",
    "\n",
    "To determine which data points are closest to a given new data point, the distance between the new data point and the other data points will need to be calculated.\n",
    "\n",
    "\n",
    "* Euclidean\n",
    "* Manhattan\n",
    "* Chebyshev\n",
    "* Mahalanobis \n",
    "\n",
    "Reference:https://scikit-learn.org/stable/modules/generated/sklearn.neighbors.KNeighborsClassifier.html\n",
    "\n"
   ]
  },
  {
   "cell_type": "markdown",
   "metadata": {},
   "source": [
    "### Model Fitting"
   ]
  },
  {
   "cell_type": "code",
   "execution_count": 249,
   "metadata": {},
   "outputs": [
    {
     "data": {
      "text/plain": [
       "KNeighborsClassifier(metric='euclidean', n_neighbors=10)"
      ]
     },
     "execution_count": 249,
     "metadata": {},
     "output_type": "execute_result"
    }
   ],
   "source": [
    "# Fit the model\n",
    "knn.fit(x, y)"
   ]
  },
  {
   "cell_type": "markdown",
   "metadata": {},
   "source": [
    "### Prediction on Test data\n"
   ]
  },
  {
   "cell_type": "code",
   "execution_count": 250,
   "metadata": {},
   "outputs": [],
   "source": [
    "y_pred = knn.predict(x)"
   ]
  },
  {
   "cell_type": "code",
   "execution_count": 251,
   "metadata": {},
   "outputs": [
    {
     "data": {
      "image/png": "[encoded data removed]",
      "text/plain": [
       "<Figure size 432x288 with 2 Axes>"
      ]
     },
     "metadata": {
      "needs_background": "light"
     },
     "output_type": "display_data"
    }
   ],
   "source": [
    "confusion_matrix = pd.crosstab(y, y_pred, rownames=['Actual'], colnames=['Predicted'])\n",
    "#print(confusion_matrix)\n",
    "\n",
    "sns.heatmap(confusion_matrix, annot=True)\n",
    "plt.title('When k=10')\n",
    "\n",
    "plt.show()"
   ]
  },
  {
   "cell_type": "markdown",
   "metadata": {},
   "source": [
    "\n",
    "### 41+40 correct predictions (81 correctly clasified patients) and 10+9 incorrect predictions (19 incorrectly classified patients).\n",
    "\n",
    "\n",
    "From the confusion matrix, we can see that the KNN algorithm classified 41 correct predictions for the \"fracture\" class and 40 correct predictions for the \"no fracture\" class. \n",
    "It made 10 incorrect predictions for the \"fracture\" class, which were classified as \"no fracture\", and 9 incorrect predictions for the \"no fracture\" class, which were classified as \"fracture\"."
   ]
  },
  {
   "cell_type": "markdown",
   "metadata": {},
   "source": [
    "# Evaluating the Model using Accuracy Score\n",
    "\n"
   ]
  },
  {
   "cell_type": "code",
   "execution_count": 252,
   "metadata": {},
   "outputs": [
    {
     "name": "stdout",
     "output_type": "stream",
     "text": [
      "Accuracy for k = 10 : 0.81\n"
     ]
    }
   ],
   "source": [
    "# Calculate accuracy of the model\n",
    "accuracy = accuracy_score(y, y_pred)\n",
    "print('Accuracy for k = 10 :', accuracy)"
   ]
  },
  {
   "cell_type": "markdown",
   "metadata": {},
   "source": [
    "####  k = 10, accuracy score = 0.81"
   ]
  },
  {
   "cell_type": "markdown",
   "metadata": {},
   "source": [
    "# WHEN k =  9"
   ]
  },
  {
   "cell_type": "code",
   "execution_count": 253,
   "metadata": {},
   "outputs": [
    {
     "name": "stdout",
     "output_type": "stream",
     "text": [
      "Accuracy for k = 9 : 0.79\n"
     ]
    }
   ],
   "source": [
    "# KNN classifier with 9 neighbors \n",
    "knn = KNeighborsClassifier(n_neighbors=9, metric='euclidean')\n",
    "\n",
    "# Fit the model\n",
    "knn.fit(x, y)\n",
    "\n",
    "# Predict\n",
    "y_pred = knn.predict(x)\n",
    "\n",
    "# Calculate accuracy of the model\n",
    "accuracy = accuracy_score(y, y_pred)\n",
    "print('Accuracy for k = 9 :', accuracy)"
   ]
  },
  {
   "cell_type": "markdown",
   "metadata": {},
   "source": [
    "#### k = 9, accuracy score = 0.79"
   ]
  },
  {
   "cell_type": "code",
   "execution_count": 254,
   "metadata": {},
   "outputs": [
    {
     "data": {
      "image/png": "[encoded data removed]",
      "text/plain": [
       "<Figure size 432x288 with 2 Axes>"
      ]
     },
     "metadata": {
      "needs_background": "light"
     },
     "output_type": "display_data"
    }
   ],
   "source": [
    "confusion_matrix = pd.crosstab(y, y_pred, rownames=['Actual'], colnames=['Predicted'])\n",
    "#print(confusion_matrix)\n",
    "\n",
    "sns.heatmap(confusion_matrix, annot=True)\n",
    "plt.title('When k=9')\n",
    "plt.show()\n"
   ]
  },
  {
   "cell_type": "markdown",
   "metadata": {},
   "source": [
    "### 39+40 correct predictions (79 correctly clasified patients) and 10+11 incorrect predictions (21 incorrectly classified patients).\n"
   ]
  },
  {
   "cell_type": "markdown",
   "metadata": {},
   "source": [
    "# WHEN k = 11"
   ]
  },
  {
   "cell_type": "code",
   "execution_count": 255,
   "metadata": {},
   "outputs": [
    {
     "name": "stdout",
     "output_type": "stream",
     "text": [
      "Accuracy for k = 11 : 0.8\n"
     ]
    }
   ],
   "source": [
    "# KNN classifier with 11 neighbors\n",
    "knn = KNeighborsClassifier(n_neighbors=11, metric='euclidean')\n",
    "\n",
    "# Fit the model\n",
    "knn.fit(x, y)\n",
    "\n",
    "# Predict\n",
    "y_pred = knn.predict(x)\n",
    "\n",
    "# Calculate accuracy of the model\n",
    "accuracy = accuracy_score(y, y_pred)\n",
    "print('Accuracy for k = 11 :', accuracy)"
   ]
  },
  {
   "cell_type": "markdown",
   "metadata": {},
   "source": [
    "#### k = 11, accuracy score = 0.8"
   ]
  },
  {
   "cell_type": "code",
   "execution_count": 256,
   "metadata": {},
   "outputs": [
    {
     "data": {
      "image/png": "[encoded data removed]",
      "text/plain": [
       "<Figure size 432x288 with 2 Axes>"
      ]
     },
     "metadata": {
      "needs_background": "light"
     },
     "output_type": "display_data"
    }
   ],
   "source": [
    "confusion_matrix = pd.crosstab(y, y_pred, rownames=['Actual'], colnames=['Predicted'])\n",
    "#print(confusion_matrix)\n",
    "\n",
    "sns.heatmap(confusion_matrix, annot=True)\n",
    "plt.title('When k=11')\n",
    "plt.show()"
   ]
  },
  {
   "cell_type": "markdown",
   "metadata": {},
   "source": [
    "### 40+40 correct predictions (80 correctly clasified patients) and 10+10 incorrect predictions (20 incorrectly classified patients).\n"
   ]
  },
  {
   "cell_type": "markdown",
   "metadata": {},
   "source": [
    "# Analyze results for multiple K values\n",
    "\n",
    "#### 1. In terms of Accuracy Score\n",
    "* k = 9 ; 0.79\n",
    "* k = 10 ; 0.81\n",
    "* k = 11 ; 0.8 \n",
    "\n",
    "### So, k = 10 is the better performer in terms of accuracy score. \n",
    "\n",
    "#### 2. In terms of Confusion Matrix\n",
    "* k = 9 ;  39+40 correct predictions (79 correctly clasified patients) and 10+11 incorrect predictions (21 incorrectly classified patients).\n",
    "* k = 10 ; 41+40 correct predictions (81 correctly clasified patients) and 10+9 incorrect predictions (19 incorrectly classified patients).\n",
    "* k = 11 ; 40+40 correct predictions (80 correctly clasified patients) and 10+10 incorrect predictions (20 incorrectly classified patients).\n",
    "\n",
    "\n",
    "\n",
    "### So, k = 10 is the better performer in terms of confusion matrix as it correctly classified 81 patients and incorrectly classified only 19 incorrect patients - which is the best result out of them all.\n",
    "\n",
    "\n",
    "\n"
   ]
  },
  {
   "cell_type": "markdown",
   "metadata": {},
   "source": [
    "____"
   ]
  },
  {
   "cell_type": "markdown",
   "metadata": {},
   "source": [
    "# METHOD 2 (Classifier Error Rate)"
   ]
  },
  {
   "cell_type": "code",
   "execution_count": 258,
   "metadata": {},
   "outputs": [
    {
     "data": {
      "image/png": "[encoded data removed]",
      "text/plain": [
       "<Figure size 864x432 with 1 Axes>"
      ]
     },
     "metadata": {
      "needs_background": "light"
     },
     "output_type": "display_data"
    }
   ],
   "source": [
    "#Determine classifier error rate\n",
    "error_rate = []\n",
    "for i in range(1,12):\n",
    "    knn = KNeighborsClassifier(n_neighbors=i)\n",
    "    knn.fit(x, y)\n",
    "    #Y_pred=knn.predict(X)\n",
    "    pred_i = knn.predict(x)\n",
    "    error_rate.append(np.mean(pred_i != y))\n",
    "    \n",
    "plt.figure(figsize=(12,6))\n",
    "plt.plot(range(1,12),error_rate,color='blue', linestyle='dashed', marker='*',\n",
    "markerfacecolor='red', markersize=12)\n",
    "\n",
    "plt.title('Error Rate vs. K Value')\n",
    "plt.xlabel('K')\n",
    "plt.ylabel('Error Rate')\n",
    "plt.show()"
   ]
  },
  {
   "cell_type": "markdown",
   "metadata": {},
   "source": [
    "\n",
    "# From the plot, we can see that the smallest error we got is at K=7.\n",
    "\n",
    "\n",
    "Ideally, we want to pick the one with the lowest error rate. But we can't pick 1 as it is not sufficient, so we exclude 1.\n"
   ]
  },
  {
   "cell_type": "code",
   "execution_count": 259,
   "metadata": {},
   "outputs": [
    {
     "name": "stdout",
     "output_type": "stream",
     "text": [
      "Accuracy for k = 7 : 0.88\n"
     ]
    }
   ],
   "source": [
    "# KNN classifier object with 7 neighbors \n",
    "knn = KNeighborsClassifier(n_neighbors=7, metric='euclidean')\n",
    "\n",
    "# Fit the model\n",
    "knn.fit(x, y)\n",
    "\n",
    "# Predict\n",
    "y_pred = knn.predict(x)\n",
    "\n",
    "# Calculate accuracy of the model\n",
    "accuracy = accuracy_score(y, y_pred)\n",
    "print('Accuracy for k = 7 :', accuracy)"
   ]
  },
  {
   "cell_type": "markdown",
   "metadata": {},
   "source": [
    "#### k = 7, accuracy score = 0.88"
   ]
  },
  {
   "cell_type": "code",
   "execution_count": 260,
   "metadata": {},
   "outputs": [
    {
     "data": {
      "image/png": "[encoded data removed]",
      "text/plain": [
       "<Figure size 432x288 with 2 Axes>"
      ]
     },
     "metadata": {
      "needs_background": "light"
     },
     "output_type": "display_data"
    }
   ],
   "source": [
    "confusion_matrix = pd.crosstab(y, y_pred, rownames=['Actual'], colnames=['Predicted'])\n",
    "#print(confusion_matrix)\n",
    "\n",
    "sns.heatmap(confusion_matrix, annot=True)\n",
    "plt.title('When k=7')\n",
    "plt.show()"
   ]
  },
  {
   "cell_type": "markdown",
   "metadata": {},
   "source": [
    "### 43+45 correct predictions (88 correctly clasified patients) and 5+7 incorrect predictions (12 incorrectly classified patients).\n",
    "\n",
    "\n",
    "From the confusion matrix, we can see that the KNN algorithm classified 43 correct predictions for the \"fracture\" class and 45 correct predictions for the \"no fracture\" class. \n",
    "It made 5 incorrect predictions for the \"fracture\" class, which were classified as \"no fracture\", and 7 incorrect predictions for the \"no fracture\" class, which were classified as \"fracture\"."
   ]
  },
  {
   "cell_type": "markdown",
   "metadata": {},
   "source": [
    "#### So, using both the methods for determining the value of K, we checked for k = 7, 9, 10, 11\n",
    "\n",
    "## Ultimtely, the one with the best results was k =7, in terms of accuracy score and confusion matrix (correct and incorrect classifications)"
   ]
  },
  {
   "cell_type": "markdown",
   "metadata": {},
   "source": [
    "___\n"
   ]
  },
  {
   "cell_type": "markdown",
   "metadata": {},
   "source": [
    "# After we are satisfied with the performance of leaner, we use new data point to make predictions too see how the learner works/ how well the learner predicts\n",
    "\n",
    "\n",
    "Note: Because we have normalized the data before feeding into the model, we also have to normalize the new data point before feeding it into the algorithmn"
   ]
  },
  {
   "cell_type": "code",
   "execution_count": 276,
   "metadata": {},
   "outputs": [
    {
     "name": "stdout",
     "output_type": "stream",
     "text": [
      "[[0. 0. 0. 0.]]\n"
     ]
    }
   ],
   "source": [
    "scaler = MinMaxScaler()\n",
    "\n",
    "# Normalize the data\n",
    "data_to_normalize = [[57,64,155,0.8793]]\n",
    "normalized_data = scaler.fit_transform(data_to_normalize)\n",
    "print(normalized_data)"
   ]
  },
  {
   "cell_type": "code",
   "execution_count": null,
   "metadata": {},
   "outputs": [],
   "source": []
  },
  {
   "cell_type": "code",
   "execution_count": 269,
   "metadata": {},
   "outputs": [
    {
     "name": "stdout",
     "output_type": "stream",
     "text": [
      "Predicted Result:  ['no fracture']\n"
     ]
    }
   ],
   "source": [
    "#'age', 'weight_kg','height_cm','bmd'\n",
    "prediction = knn.predict([[57,64,155,0.8793]])\n",
    "print ('Predicted Result: ', prediction)"
   ]
  },
  {
   "cell_type": "code",
   "execution_count": null,
   "metadata": {},
   "outputs": [],
   "source": [
    "\n",
    "\n"
   ]
  },
  {
   "cell_type": "code",
   "execution_count": null,
   "metadata": {},
   "outputs": [],
   "source": []
  },
  {
   "cell_type": "code",
   "execution_count": null,
   "metadata": {},
   "outputs": [],
   "source": [
    "\n"
   ]
  },
  {
   "cell_type": "markdown",
   "metadata": {},
   "source": [
    "----"
   ]
  },
  {
   "cell_type": "code",
   "execution_count": 262,
   "metadata": {},
   "outputs": [
    {
     "data": {
      "image/png": "[encoded data removed]",
      "text/plain": [
       "<Figure size 432x288 with 2 Axes>"
      ]
     },
     "metadata": {
      "needs_background": "light"
     },
     "output_type": "display_data"
    },
    {
     "name": "stdout",
     "output_type": "stream",
     "text": [
      "Accuracy for Logistic Regression =  0.8\n"
     ]
    }
   ],
   "source": [
    "#Recap result of Logistic Regression\n",
    "\n",
    "from sklearn.linear_model import LogisticRegression\n",
    "from sklearn.model_selection import train_test_split\n",
    "\n",
    "# Create LR model\n",
    "model_LR = LogisticRegression()\n",
    "\n",
    "# Fit the model \n",
    "model_LR.fit(x,y)\n",
    "\n",
    "y_predict = model_LR.predict(x)\n",
    "\n",
    "# Confusion matrix\n",
    "confusion_matrix = pd.crosstab(y, y_predict, rownames=['Actual'], colnames=['Predicted'])\n",
    "sns.heatmap(confusion_matrix, annot=True)\n",
    "plt.show()\n",
    "\n",
    "# Accuracy Score of LR\n",
    "accuracy = metrics.accuracy_score(y,y_predict)\n",
    "print('Accuracy for Logistic Regression = ', accuracy)"
   ]
  },
  {
   "cell_type": "markdown",
   "metadata": {},
   "source": [
    "# Comparison of Logistic Regression & KNN:"
   ]
  },
  {
   "cell_type": "markdown",
   "metadata": {},
   "source": [
    "#### 1. In terms of Accuracy Score\n",
    "\n",
    "Comparing the KNN algorithm's performance with logistic regression, we can see that logistic regression achieved an accuracy of 0.80. Therefore, KNN (when k = 7, accuracy score = 0.88) performed better than logistic regression in terms of classification accuracy.\n"
   ]
  },
  {
   "cell_type": "markdown",
   "metadata": {},
   "source": [
    "#### 2. In terms of classfications:\n",
    "\n",
    "#### Correct Classifications:\n",
    "* KNN:88 correct predictions\n",
    "* LR: 80\n",
    "\n",
    "#### Incorrect/Missclassifications:\n",
    "* KNN: 12 incorrect predictions\n",
    "* LR: 20\n",
    "\n",
    "\n",
    "So, KNN had more correct classifications & less missclssifications compared to Logistic Regression. Hence, KNN is the better model!"
   ]
  }
 ],
 "metadata": {
  "kernelspec": {
   "display_name": "Python 3",
   "language": "python",
   "name": "python3"
  },
  "language_info": {
   "codemirror_mode": {
    "name": "ipython",
    "version": 3
   },
   "file_extension": ".py",
   "mimetype": "text/x-python",
   "name": "python",
   "nbconvert_exporter": "python",
   "pygments_lexer": "ipython3",
   "version": "3.8.5"
  }
 },
 "nbformat": 4,
 "nbformat_minor": 4
}
