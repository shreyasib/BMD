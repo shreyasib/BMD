{
 "cells": [
  {
   "cell_type": "code",
   "execution_count": 21,
   "metadata": {},
   "outputs": [],
   "source": [
    "import pandas as pd\n",
    "import numpy as np\n",
    "import seaborn as sns\n",
    "import matplotlib.pyplot as plt\n",
    "\n",
    "from sklearn.preprocessing import MinMaxScaler\n",
    "\n",
    "from sklearn import svm\n",
    "\n",
    "from sklearn import metrics\n",
    "from sklearn.metrics import confusion_matrix, accuracy_score, classification_report"
   ]
  },
  {
   "cell_type": "code",
   "execution_count": 22,
   "metadata": {},
   "outputs": [
    {
     "data": {
      "text/html": [
       "<div>\n",
       "<style scoped>\n",
       "    .dataframe tbody tr th:only-of-type {\n",
       "        vertical-align: middle;\n",
       "    }\n",
       "\n",
       "    .dataframe tbody tr th {\n",
       "        vertical-align: top;\n",
       "    }\n",
       "\n",
       "    .dataframe thead th {\n",
       "        text-align: right;\n",
       "    }\n",
       "</style>\n",
       "<table border=\"1\" class=\"dataframe\">\n",
       "  <thead>\n",
       "    <tr style=\"text-align: right;\">\n",
       "      <th></th>\n",
       "      <th>id</th>\n",
       "      <th>age</th>\n",
       "      <th>weight_kg</th>\n",
       "      <th>height_cm</th>\n",
       "      <th>bmd</th>\n",
       "      <th>fracture</th>\n",
       "    </tr>\n",
       "  </thead>\n",
       "  <tbody>\n",
       "    <tr>\n",
       "      <th>0</th>\n",
       "      <td>469</td>\n",
       "      <td>57.052768</td>\n",
       "      <td>64.0</td>\n",
       "      <td>155.5</td>\n",
       "      <td>0.8793</td>\n",
       "      <td>no fracture</td>\n",
       "    </tr>\n",
       "    <tr>\n",
       "      <th>1</th>\n",
       "      <td>8724</td>\n",
       "      <td>75.741225</td>\n",
       "      <td>78.0</td>\n",
       "      <td>162.0</td>\n",
       "      <td>0.7946</td>\n",
       "      <td>no fracture</td>\n",
       "    </tr>\n",
       "    <tr>\n",
       "      <th>2</th>\n",
       "      <td>6736</td>\n",
       "      <td>70.778900</td>\n",
       "      <td>73.0</td>\n",
       "      <td>170.5</td>\n",
       "      <td>0.9067</td>\n",
       "      <td>no fracture</td>\n",
       "    </tr>\n",
       "    <tr>\n",
       "      <th>3</th>\n",
       "      <td>24180</td>\n",
       "      <td>78.247175</td>\n",
       "      <td>60.0</td>\n",
       "      <td>148.0</td>\n",
       "      <td>0.7112</td>\n",
       "      <td>no fracture</td>\n",
       "    </tr>\n",
       "    <tr>\n",
       "      <th>4</th>\n",
       "      <td>17072</td>\n",
       "      <td>54.191877</td>\n",
       "      <td>55.0</td>\n",
       "      <td>161.0</td>\n",
       "      <td>0.7909</td>\n",
       "      <td>no fracture</td>\n",
       "    </tr>\n",
       "  </tbody>\n",
       "</table>\n",
       "</div>"
      ],
      "text/plain": [
       "      id        age  weight_kg  height_cm     bmd     fracture\n",
       "0    469  57.052768       64.0      155.5  0.8793  no fracture\n",
       "1   8724  75.741225       78.0      162.0  0.7946  no fracture\n",
       "2   6736  70.778900       73.0      170.5  0.9067  no fracture\n",
       "3  24180  78.247175       60.0      148.0  0.7112  no fracture\n",
       "4  17072  54.191877       55.0      161.0  0.7909  no fracture"
      ]
     },
     "execution_count": 22,
     "metadata": {},
     "output_type": "execute_result"
    }
   ],
   "source": [
    "# Load the dataset\n",
    "df = pd.read_csv('BMD-1.csv')\n",
    "df.head()"
   ]
  },
  {
   "cell_type": "code",
   "execution_count": 24,
   "metadata": {},
   "outputs": [
    {
     "data": {
      "text/plain": [
       "(169, 6)"
      ]
     },
     "execution_count": 24,
     "metadata": {},
     "output_type": "execute_result"
    }
   ],
   "source": [
    "df.shape"
   ]
  },
  {
   "cell_type": "code",
   "execution_count": 4,
   "metadata": {},
   "outputs": [],
   "source": [
    "# Set Features and Target Variable\n",
    "x = df[['age', 'weight_kg','height_cm','bmd']]\n",
    "y = df['fracture']"
   ]
  },
  {
   "cell_type": "markdown",
   "metadata": {},
   "source": [
    "# Preparing data into a suitable format for the ML algorithms"
   ]
  },
  {
   "cell_type": "markdown",
   "metadata": {},
   "source": [
    "## 1. Normalize the dataset"
   ]
  },
  {
   "cell_type": "code",
   "execution_count": 25,
   "metadata": {},
   "outputs": [
    {
     "name": "stdout",
     "output_type": "stream",
     "text": [
      "        id       age  weight_kg  height_cm       bmd     fracture\n",
      "0      469  0.401187   0.466667   0.385714  0.494030  no fracture\n",
      "1     8724  0.754200   0.700000   0.571429  0.405320  no fracture\n",
      "2     6736  0.660465   0.616667   0.814286  0.522727  no fracture\n",
      "3    24180  0.801536   0.400000   0.171429  0.317972  no fracture\n",
      "4    17072  0.347146   0.316667   0.542857  0.401445  no fracture\n",
      "..     ...       ...        ...        ...       ...          ...\n",
      "164  21892  0.796537   0.633333   0.628571  0.404797     fracture\n",
      "165  24140  0.273353   0.383333   0.542857  0.407939     fracture\n",
      "166   6969  0.199201   0.516667   0.771429  0.414851     fracture\n",
      "167   5505  0.358413   0.566667   0.685714  0.418517     fracture\n",
      "168     71  0.645654   0.541667   0.657143  0.480519     fracture\n",
      "\n",
      "[169 rows x 6 columns]\n"
     ]
    }
   ],
   "source": [
    "from sklearn.preprocessing import MinMaxScaler\n",
    "\n",
    "min_max_scale = MinMaxScaler()\n",
    "df[['age', 'weight_kg','height_cm','bmd']] = min_max_scale.fit_transform(df[['age', 'weight_kg','height_cm','bmd']])\n",
    "\n",
    "print(df)"
   ]
  },
  {
   "cell_type": "markdown",
   "metadata": {},
   "source": [
    "The resulting normalized values represent the original data on 0 to 1 scale. So, 'age', 'weight_kg','height_cm','bmd' will all be on the same scale after normalization.\n",
    "\n",
    "NOTE: In min-max normalization, the min value gets transformed into 0 and the max value gets transformed into 1. All values in-between get scaled to be within 0-1 range based on the original value relative to min and max values of the dataset."
   ]
  },
  {
   "cell_type": "markdown",
   "metadata": {},
   "source": [
    "## 2. Class Imbalance"
   ]
  },
  {
   "cell_type": "code",
   "execution_count": 26,
   "metadata": {},
   "outputs": [
    {
     "data": {
      "text/plain": [
       "no fracture    119\n",
       "fracture        50\n",
       "Name: fracture, dtype: int64"
      ]
     },
     "execution_count": 26,
     "metadata": {},
     "output_type": "execute_result"
    }
   ],
   "source": [
    "# To see the distribution of the dataset.\n",
    "df.fracture.value_counts()"
   ]
  },
  {
   "cell_type": "markdown",
   "metadata": {},
   "source": [
    "## Imbalanced dataset - 119 and 50. One class has more weight than the other class.\n",
    "\n",
    "To handle imbalanced dataset, we can:\n",
    "* Reduce the size of larger class\n",
    "* Add to smaller class\n"
   ]
  },
  {
   "cell_type": "markdown",
   "metadata": {},
   "source": [
    "### In this analysis, we will reduce the size of larger class.\n"
   ]
  },
  {
   "cell_type": "code",
   "execution_count": 27,
   "metadata": {},
   "outputs": [
    {
     "data": {
      "text/html": [
       "<div>\n",
       "<style scoped>\n",
       "    .dataframe tbody tr th:only-of-type {\n",
       "        vertical-align: middle;\n",
       "    }\n",
       "\n",
       "    .dataframe tbody tr th {\n",
       "        vertical-align: top;\n",
       "    }\n",
       "\n",
       "    .dataframe thead th {\n",
       "        text-align: right;\n",
       "    }\n",
       "</style>\n",
       "<table border=\"1\" class=\"dataframe\">\n",
       "  <thead>\n",
       "    <tr style=\"text-align: right;\">\n",
       "      <th></th>\n",
       "      <th>id</th>\n",
       "      <th>age</th>\n",
       "      <th>weight_kg</th>\n",
       "      <th>height_cm</th>\n",
       "      <th>bmd</th>\n",
       "      <th>fracture</th>\n",
       "    </tr>\n",
       "  </thead>\n",
       "  <tbody>\n",
       "    <tr>\n",
       "      <th>68</th>\n",
       "      <td>8896</td>\n",
       "      <td>0.298122</td>\n",
       "      <td>0.300000</td>\n",
       "      <td>0.342857</td>\n",
       "      <td>0.385316</td>\n",
       "      <td>no fracture</td>\n",
       "    </tr>\n",
       "    <tr>\n",
       "      <th>111</th>\n",
       "      <td>23790</td>\n",
       "      <td>0.314778</td>\n",
       "      <td>0.383333</td>\n",
       "      <td>0.242857</td>\n",
       "      <td>0.339129</td>\n",
       "      <td>no fracture</td>\n",
       "    </tr>\n",
       "    <tr>\n",
       "      <th>40</th>\n",
       "      <td>55</td>\n",
       "      <td>0.706773</td>\n",
       "      <td>0.266667</td>\n",
       "      <td>0.314286</td>\n",
       "      <td>0.319648</td>\n",
       "      <td>no fracture</td>\n",
       "    </tr>\n",
       "    <tr>\n",
       "      <th>49</th>\n",
       "      <td>5509</td>\n",
       "      <td>0.775407</td>\n",
       "      <td>0.866667</td>\n",
       "      <td>0.714286</td>\n",
       "      <td>0.622015</td>\n",
       "      <td>no fracture</td>\n",
       "    </tr>\n",
       "    <tr>\n",
       "      <th>83</th>\n",
       "      <td>8999</td>\n",
       "      <td>0.461327</td>\n",
       "      <td>0.566667</td>\n",
       "      <td>0.457143</td>\n",
       "      <td>0.448890</td>\n",
       "      <td>no fracture</td>\n",
       "    </tr>\n",
       "  </tbody>\n",
       "</table>\n",
       "</div>"
      ],
      "text/plain": [
       "        id       age  weight_kg  height_cm       bmd     fracture\n",
       "68    8896  0.298122   0.300000   0.342857  0.385316  no fracture\n",
       "111  23790  0.314778   0.383333   0.242857  0.339129  no fracture\n",
       "40      55  0.706773   0.266667   0.314286  0.319648  no fracture\n",
       "49    5509  0.775407   0.866667   0.714286  0.622015  no fracture\n",
       "83    8999  0.461327   0.566667   0.457143  0.448890  no fracture"
      ]
     },
     "execution_count": 27,
     "metadata": {},
     "output_type": "execute_result"
    }
   ],
   "source": [
    "df_majority = df[df['fracture'] == 'no fracture']\n",
    "df_minority = df[df['fracture'] == 'fracture']\n",
    "\n",
    "\n",
    "from sklearn.utils import resample\n",
    "\n",
    "df_majority_downsampled = resample(df_majority, replace=False, n_samples=len(df_minority), random_state=96) \n",
    "\n",
    "# Combining minority class with downsampled majority class\n",
    "df_downsampled = pd.concat([df_majority_downsampled, df_minority])\n",
    "df_downsampled.head()"
   ]
  },
  {
   "cell_type": "code",
   "execution_count": 28,
   "metadata": {},
   "outputs": [
    {
     "data": {
      "text/plain": [
       "fracture       50\n",
       "no fracture    50\n",
       "Name: fracture, dtype: int64"
      ]
     },
     "execution_count": 28,
     "metadata": {},
     "output_type": "execute_result"
    }
   ],
   "source": [
    "df_downsampled.fracture.value_counts()"
   ]
  },
  {
   "cell_type": "markdown",
   "metadata": {},
   "source": [
    "Now we have a perfectly balanced data."
   ]
  },
  {
   "cell_type": "markdown",
   "metadata": {},
   "source": [
    "# Split to X & Y"
   ]
  },
  {
   "cell_type": "code",
   "execution_count": 29,
   "metadata": {},
   "outputs": [],
   "source": [
    "# Set Features and Target Variable\n",
    "x = df_downsampled[['age', 'weight_kg','height_cm','bmd']]\n",
    "y = df_downsampled['fracture']"
   ]
  },
  {
   "cell_type": "markdown",
   "metadata": {},
   "source": [
    "\n",
    "## SUPPORT VECTOR MACHINE\n",
    "\n",
    "SVMs are a set of supervised learning methods used for classification, regression, and outliers detection. \n",
    "\n",
    "\n",
    "* many features\n",
    "* number of features > number of data points\n",
    "\n",
    "\n",
    "#### Decision Boundary\n",
    "\n",
    "\n",
    "* The two closest data points give you the support vectors you'll use to find that line. That line is called the decision boundary.\n",
    "\n",
    "* The decision boundary doesn't have to be a line. It's also referred to as a hyperplane because you can find the decision boundary with any number of features, not just two.\n",
    "\n",
    "\n",
    "\n",
    "There are two different types of SVMs, each used for different things:\n",
    "\n",
    "* Simple SVM: Typically used for linear regression & classification problems.\n",
    "\n",
    "* Kernel SVM: Has more flexibility for non-linear data because you can add more features to fit a hyperplane instead of a two-dimensional space.\n",
    "\n",
    "\n",
    "\n",
    "### Kernel\n",
    "\n",
    "SVM can be applied to both linearly separable and non-linearly separable datasets by using different kernel functions, such as linear, polynomial, and radial basis function (RBF). The choice of kernel function depends on the nature of the data and the problem being solved.\n",
    "\n",
    "##### Linear Kernel\n",
    "\n",
    "* simplest kernel function\n",
    "* used when data can be easily separated by a straight line \n",
    "\n",
    "EG: in text classification, where goal is to separate documents into different categories based on the frequency of certain words.\n",
    "\n",
    "\n",
    "\n",
    "##### Gaussian Kernel\n",
    "\n",
    "* also known as radial basis function/RBF\n",
    "* more flexible kernel function\n",
    "* used to separate data that is not linearly separable\n",
    "* distance metric used: Euclidean distance\n",
    "\n",
    "\n",
    "EG: in image classification, where the goal is to identify objects in images based on their features, such as shape and texture.\n",
    "\n",
    "\n",
    "\n",
    "# Hyperparameters: \n",
    "\n",
    "\n",
    "\n",
    "### C\n",
    "\n",
    "* the penalty parameter \n",
    "* determines the trade-off between maximizing the margin and minimizing the classification error\n",
    "\n",
    "* Smaller value of C creates a wider margin and allows more misclassifications\n",
    "* Larger value of C creates a narrower margin and penalizes misclassifications more heavily \n",
    "\n",
    "* Essentially, C controls the balance between overfitting and underfitting in the model\n",
    "\n",
    "\n",
    "Choosing the value of C is typically done through a process of hyperparameter tuning, where the performance of the SVM model is evaluated on a validation set for different values of C, and the value that gives the best performance is selected.\n",
    "\n",
    "\n",
    "\n",
    "\n",
    "### Gamma\n",
    "\n",
    "* defines how far the influence of a single training example reaches\n",
    "\n",
    "* small gamma means a Gaussian kernel with a large variance, and thus the influence of each training example is broader\n",
    "\n",
    "* large gamma means a Gaussian kernel with a small variance, and thus the influence of each training example is more localized\n",
    "\n",
    "* gamma determines the flexibility of the decision boundary. A small gamma will result in a more generalized decision boundary, while a large gamma will result in a more complex decision boundary that can potentially overfit the training data.\n",
    "\n",
    "* high value of gamma leads to overfitting, while a low value of gamma leads to underfitting."
   ]
  },
  {
   "cell_type": "markdown",
   "metadata": {},
   "source": [
    "# Create the SVM Classifier "
   ]
  },
  {
   "cell_type": "markdown",
   "metadata": {},
   "source": [
    "## 1. Linear"
   ]
  },
  {
   "cell_type": "code",
   "execution_count": 30,
   "metadata": {},
   "outputs": [],
   "source": [
    "#create a classifier\n",
    "linear_svm = svm.SVC(kernel=\"linear\", C=1.0)"
   ]
  },
  {
   "cell_type": "markdown",
   "metadata": {},
   "source": [
    "# Model Fitting"
   ]
  },
  {
   "cell_type": "code",
   "execution_count": 31,
   "metadata": {},
   "outputs": [
    {
     "data": {
      "text/plain": [
       "SVC(kernel='linear')"
      ]
     },
     "execution_count": 31,
     "metadata": {},
     "output_type": "execute_result"
    }
   ],
   "source": [
    "# Fit the model\n",
    "linear_svm.fit(x,y)"
   ]
  },
  {
   "cell_type": "markdown",
   "metadata": {},
   "source": [
    "# Prediction on Test data"
   ]
  },
  {
   "cell_type": "code",
   "execution_count": 32,
   "metadata": {},
   "outputs": [],
   "source": [
    "y_pred = linear_svm.predict(x)"
   ]
  },
  {
   "cell_type": "code",
   "execution_count": 33,
   "metadata": {},
   "outputs": [
    {
     "data": {
      "image/png": "[encoded data removed]",
      "text/plain": [
       "<Figure size 432x288 with 2 Axes>"
      ]
     },
     "metadata": {
      "needs_background": "light"
     },
     "output_type": "display_data"
    }
   ],
   "source": [
    "confusion_matrix = pd.crosstab(y, y_pred1, rownames=['Actual'], colnames=['Predicted'])\n",
    "#print(confusion_matrix\n",
    "\n",
    "sns.heatmap(confusion_matrix, annot=True)\n",
    "plt.title('When Linear')\n",
    "\n",
    "plt.show()"
   ]
  },
  {
   "cell_type": "markdown",
   "metadata": {},
   "source": [
    "## 37+44 correct predictions (81 correctly clasified patients) and 6+13 incorrect predictions (21 incorrectly classified patients).\n",
    "\n",
    "From the confusion matrix, we can see that the RF algorithm classified 37 correct predictions for the \"fracture\" class and 44 correct predictions for the \"no fracture\" class. It made 6 incorrect predictions for the \"fracture\" class, which were classified as \"no fracture\", and 13 incorrect predictiOns for the \"no fracture\" class, which were classified as \"fracture\"."
   ]
  },
  {
   "cell_type": "markdown",
   "metadata": {},
   "source": [
    "\n",
    "\n",
    "# Evaluate the Model\n",
    "\n",
    "* Accuracy Score\n",
    "* Classification report"
   ]
  },
  {
   "cell_type": "code",
   "execution_count": 34,
   "metadata": {},
   "outputs": [
    {
     "name": "stdout",
     "output_type": "stream",
     "text": [
      "Accuracy of SVM model with Linear Kernel 0.81\n"
     ]
    }
   ],
   "source": [
    "# Calculate accuracy of the model\n",
    "\n",
    "accuracy = accuracy_score(y, y_pred)\n",
    "print('Accuracy of SVM model with Linear Kernel', accuracy)"
   ]
  },
  {
   "cell_type": "code",
   "execution_count": 35,
   "metadata": {},
   "outputs": [
    {
     "name": "stdout",
     "output_type": "stream",
     "text": [
      "              precision    recall  f1-score   support\n",
      "\n",
      "    fracture       0.86      0.74      0.80        50\n",
      " no fracture       0.77      0.88      0.82        50\n",
      "\n",
      "    accuracy                           0.81       100\n",
      "   macro avg       0.82      0.81      0.81       100\n",
      "weighted avg       0.82      0.81      0.81       100\n",
      "\n"
     ]
    }
   ],
   "source": [
    "print(classification_report(y, y_pred))"
   ]
  },
  {
   "cell_type": "markdown",
   "metadata": {},
   "source": [
    "## When Linear Kernel\n",
    "#### Precision:\n",
    "\n",
    "* Fracture class, precision is 0.86 ie. 86% of the cases predicted as fracture were actually fracture.\n",
    "* No fracture class, precision is 0.77 ie. 77% of the cases predicted as no fracture were actually no fracture.\n",
    "\n",
    "#### Recall:\n",
    "* Fracture class, recall is 0.74 ie. 74% of the actual fracture cases were correctly identified.\n",
    "* No fracture class, recall is 0.88 ie. 88% of the actual no fracture cases were correctly identified.\n",
    "\n",
    "#### F1-score:\n",
    "* Fracture class, F1-score is 0.80\n",
    "* No fracture class, F1-score is 0.82.\n",
    "\n",
    "Accuracy: The model has an accuracy of 81% which means it correctly predicted \"fracture\" or \"no fracture\" in 81 out of 100 patients.\n",
    "\n",
    "The model's performance is good with an accuracy of 0.81."
   ]
  },
  {
   "cell_type": "markdown",
   "metadata": {},
   "source": [
    "## 2. Non-Linear Kernel / RBF\n",
    "\n",
    "#Non-linear algorithm for model"
   ]
  },
  {
   "cell_type": "code",
   "execution_count": 36,
   "metadata": {},
   "outputs": [],
   "source": [
    "# Create RF model\n",
    "nonlinear_svm = svm.SVC(kernel='rbf', gamma =0.7, C=1.0)\n",
    "\n",
    "# Fit the model\n",
    "nonlinear_svm.fit(x,y)\n",
    "\n",
    "# Predict\n",
    "y_pred=nonlinear_svm.predict(x)"
   ]
  },
  {
   "cell_type": "code",
   "execution_count": 37,
   "metadata": {},
   "outputs": [
    {
     "data": {
      "image/png": "[encoded data removed]",
      "text/plain": [
       "<Figure size 432x288 with 2 Axes>"
      ]
     },
     "metadata": {
      "needs_background": "light"
     },
     "output_type": "display_data"
    }
   ],
   "source": [
    "confusion_matrix = pd.crosstab(y, y_pred, rownames=['Actual'], colnames=['Predicted'])\n",
    "#print(confusion_matrix)\n",
    "\n",
    "sns.heatmap(confusion_matrix, annot=True)\n",
    "plt.title('When Non-Linear')\n",
    "\n",
    "plt.show()"
   ]
  },
  {
   "cell_type": "markdown",
   "metadata": {},
   "source": [
    "## 38+44 correct predictions (82 correctly clasified patients) and 6+12 incorrect predictions (20 incorrectly classified patients).\n",
    "\n",
    "From the confusion matrix, we can see that the RF algorithm classified 38 correct predictions for the \"fracture\" class and 44 correct predictions for the \"no fracture\" class. It made 6 incorrect predictions for the \"fracture\" class, which were classified as \"no fracture\", and 12 incorrect predictions for the \"no fracture\" class, which were classified as \"fracture\"."
   ]
  },
  {
   "cell_type": "code",
   "execution_count": 40,
   "metadata": {},
   "outputs": [
    {
     "name": "stdout",
     "output_type": "stream",
     "text": [
      "Accuracy of SVM model with Gaussian Kernel 0.82\n"
     ]
    }
   ],
   "source": [
    "# Calculate accuracy of the model\n",
    "\n",
    "accuracy = accuracy_score(y, y_pred)\n",
    "print('Accuracy of SVM model with Gaussian Kernel', accuracy)"
   ]
  },
  {
   "cell_type": "code",
   "execution_count": 41,
   "metadata": {},
   "outputs": [
    {
     "name": "stdout",
     "output_type": "stream",
     "text": [
      "              precision    recall  f1-score   support\n",
      "\n",
      "    fracture       0.86      0.76      0.81        50\n",
      " no fracture       0.79      0.88      0.83        50\n",
      "\n",
      "    accuracy                           0.82       100\n",
      "   macro avg       0.82      0.82      0.82       100\n",
      "weighted avg       0.82      0.82      0.82       100\n",
      "\n"
     ]
    }
   ],
   "source": [
    "print(classification_report(y, y_pred))"
   ]
  },
  {
   "cell_type": "markdown",
   "metadata": {},
   "source": [
    "## When Non-Linear Kernel / RBF\n",
    "\n",
    "#### Precision:\n",
    "\n",
    "* Fracture class, precision is 0.86 ie. 86% of the cases predicted as fracture were actually fracture.\n",
    "* No fracture class, precision is 0.79 ie. 79% of the cases predicted as no fracture were actually no fracture.\n",
    "\n",
    "#### Recall:\n",
    "* Fracture class, recall is 0.76 ie. 76% of the actual fracture cases were correctly identified.\n",
    "* No fracture class, recall is 0.88 ie. 88% of the actual no fracture cases were correctly identified.\n",
    "\n",
    "#### F1-score:\n",
    "* Fracture class, F1-score is 0.81.\n",
    "* No fracture class, F1-score is 0.83.\n",
    "\n",
    "Accuracy: The model has an accuracy of 82% which means it correctly predicted \"fracture\" or \"no fracture\" in 82 out of 100 patients.\n",
    "\n",
    "The model's performance is good with an accuracy of 0.82."
   ]
  },
  {
   "cell_type": "markdown",
   "metadata": {},
   "source": [
    "# Accuracy of SVM\n",
    "\n",
    "### Linear Kernel\n",
    "\n",
    "* Accuracy Score: 0.81\n",
    "\n",
    "### RBF Kernel\n",
    "\n",
    "* Accuracy Score: 0.82\n",
    "\n",
    "\n",
    "\n",
    "The model with Linear Kernel model achieved a good accuracy score of 0.81, which is close to the accuracy score with Gaussian Kernal model of 0.82."
   ]
  },
  {
   "cell_type": "markdown",
   "metadata": {},
   "source": [
    "_________________________\n"
   ]
  },
  {
   "cell_type": "markdown",
   "metadata": {},
   "source": [
    "# Comparison of SVM, RF, LR & KNN:\n",
    "\n",
    "\n",
    "## 1. In terms of Accuracy Score\n",
    "\n",
    "* SVM (Linear): 0.81\n",
    "* SVM (RBF): 0.82\n",
    "\n",
    "* RN (10 Trees): 0.99\n",
    "* KNN(when k=7): 0.88\n",
    "* LR: 0.80\n",
    "\n",
    " Therefore, Random Forrest with 10 trees performed better than SVM(linear & gaussian), LR & KNN in terms of accuracy score.\n",
    "\n",
    "## 2. In terms of classfications:\n",
    "\n",
    "#### Correct Classifications:\n",
    "\n",
    "* SVM (Linear): 81 correct predictions\n",
    "* SVM (RBF): 82\n",
    "\n",
    "* RN (10 Trees): 99 \n",
    "* KNN(when k=7): 88 \n",
    "* LR: 80\n",
    "\n",
    "\n",
    "#### Incorrect/Missclassifications:\n",
    "\n",
    "* SVM (Linear): 21 incorrect predictions\n",
    "* SVM (Non- Linear): 20\n",
    "\n",
    "* RN (10 Trees): 1 \n",
    "* KNN(when k=7): 12 \n",
    "* LR: 20\n",
    "\n",
    "So, Random Forrest with 10 trees has more correct classifications & less missclssifications compared to SVM(linear & gaussian), LR & KNN. Hence, Random Forrest is the better model!"
   ]
  }
 ],
 "metadata": {
  "kernelspec": {
   "display_name": "Python 3",
   "language": "python",
   "name": "python3"
  },
  "language_info": {
   "codemirror_mode": {
    "name": "ipython",
    "version": 3
   },
   "file_extension": ".py",
   "mimetype": "text/x-python",
   "name": "python",
   "nbconvert_exporter": "python",
   "pygments_lexer": "ipython3",
   "version": "3.8.5"
  }
 },
 "nbformat": 4,
 "nbformat_minor": 4
}
