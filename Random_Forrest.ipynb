{
 "cells": [
  {
   "cell_type": "code",
   "execution_count": 150,
   "metadata": {},
   "outputs": [],
   "source": [
    "import pandas as pd\n",
    "import numpy as np\n",
    "import seaborn as sns\n",
    "import matplotlib.pyplot as plt\n",
    "\n",
    "from sklearn.preprocessing import MinMaxScaler\n",
    "from sklearn.model_selection import train_test_split\n",
    "\n",
    "from sklearn.ensemble import RandomForestClassifier\n",
    "from sklearn import tree\n",
    "\n",
    "from sklearn.tree import DecisionTreeClassifier\n",
    "\n",
    "from sklearn import metrics\n",
    "from sklearn.metrics import confusion_matrix, accuracy_score, classification_report"
   ]
  },
  {
   "cell_type": "code",
   "execution_count": 151,
   "metadata": {},
   "outputs": [
    {
     "data": {
      "text/html": [
       "<div>\n",
       "<style scoped>\n",
       "    .dataframe tbody tr th:only-of-type {\n",
       "        vertical-align: middle;\n",
       "    }\n",
       "\n",
       "    .dataframe tbody tr th {\n",
       "        vertical-align: top;\n",
       "    }\n",
       "\n",
       "    .dataframe thead th {\n",
       "        text-align: right;\n",
       "    }\n",
       "</style>\n",
       "<table border=\"1\" class=\"dataframe\">\n",
       "  <thead>\n",
       "    <tr style=\"text-align: right;\">\n",
       "      <th></th>\n",
       "      <th>id</th>\n",
       "      <th>age</th>\n",
       "      <th>weight_kg</th>\n",
       "      <th>height_cm</th>\n",
       "      <th>bmd</th>\n",
       "      <th>fracture</th>\n",
       "    </tr>\n",
       "  </thead>\n",
       "  <tbody>\n",
       "    <tr>\n",
       "      <th>0</th>\n",
       "      <td>469</td>\n",
       "      <td>57.052768</td>\n",
       "      <td>64.0</td>\n",
       "      <td>155.5</td>\n",
       "      <td>0.8793</td>\n",
       "      <td>no fracture</td>\n",
       "    </tr>\n",
       "    <tr>\n",
       "      <th>1</th>\n",
       "      <td>8724</td>\n",
       "      <td>75.741225</td>\n",
       "      <td>78.0</td>\n",
       "      <td>162.0</td>\n",
       "      <td>0.7946</td>\n",
       "      <td>no fracture</td>\n",
       "    </tr>\n",
       "    <tr>\n",
       "      <th>2</th>\n",
       "      <td>6736</td>\n",
       "      <td>70.778900</td>\n",
       "      <td>73.0</td>\n",
       "      <td>170.5</td>\n",
       "      <td>0.9067</td>\n",
       "      <td>no fracture</td>\n",
       "    </tr>\n",
       "    <tr>\n",
       "      <th>3</th>\n",
       "      <td>24180</td>\n",
       "      <td>78.247175</td>\n",
       "      <td>60.0</td>\n",
       "      <td>148.0</td>\n",
       "      <td>0.7112</td>\n",
       "      <td>no fracture</td>\n",
       "    </tr>\n",
       "    <tr>\n",
       "      <th>4</th>\n",
       "      <td>17072</td>\n",
       "      <td>54.191877</td>\n",
       "      <td>55.0</td>\n",
       "      <td>161.0</td>\n",
       "      <td>0.7909</td>\n",
       "      <td>no fracture</td>\n",
       "    </tr>\n",
       "  </tbody>\n",
       "</table>\n",
       "</div>"
      ],
      "text/plain": [
       "      id        age  weight_kg  height_cm     bmd     fracture\n",
       "0    469  57.052768       64.0      155.5  0.8793  no fracture\n",
       "1   8724  75.741225       78.0      162.0  0.7946  no fracture\n",
       "2   6736  70.778900       73.0      170.5  0.9067  no fracture\n",
       "3  24180  78.247175       60.0      148.0  0.7112  no fracture\n",
       "4  17072  54.191877       55.0      161.0  0.7909  no fracture"
      ]
     },
     "execution_count": 151,
     "metadata": {},
     "output_type": "execute_result"
    }
   ],
   "source": [
    "# Load the dataset\n",
    "df = pd.read_csv('BMD-1.csv')\n",
    "df.head()"
   ]
  },
  {
   "cell_type": "code",
   "execution_count": 152,
   "metadata": {},
   "outputs": [
    {
     "data": {
      "text/plain": [
       "(169, 6)"
      ]
     },
     "execution_count": 152,
     "metadata": {},
     "output_type": "execute_result"
    }
   ],
   "source": [
    "df.shape"
   ]
  },
  {
   "cell_type": "code",
   "execution_count": 153,
   "metadata": {},
   "outputs": [],
   "source": [
    "# Set Features and Target Variable\n",
    "x = df[['age', 'weight_kg','height_cm','bmd']]\n",
    "y = df['fracture']"
   ]
  },
  {
   "cell_type": "markdown",
   "metadata": {},
   "source": [
    "# Preparing data into a suitable format for the ML algorithms"
   ]
  },
  {
   "cell_type": "markdown",
   "metadata": {},
   "source": [
    "## 1. Normalize the dataset"
   ]
  },
  {
   "cell_type": "code",
   "execution_count": 154,
   "metadata": {},
   "outputs": [
    {
     "name": "stdout",
     "output_type": "stream",
     "text": [
      "        id       age  weight_kg  height_cm       bmd     fracture\n",
      "0      469  0.401187   0.466667   0.385714  0.494030  no fracture\n",
      "1     8724  0.754200   0.700000   0.571429  0.405320  no fracture\n",
      "2     6736  0.660465   0.616667   0.814286  0.522727  no fracture\n",
      "3    24180  0.801536   0.400000   0.171429  0.317972  no fracture\n",
      "4    17072  0.347146   0.316667   0.542857  0.401445  no fracture\n",
      "..     ...       ...        ...        ...       ...          ...\n",
      "164  21892  0.796537   0.633333   0.628571  0.404797     fracture\n",
      "165  24140  0.273353   0.383333   0.542857  0.407939     fracture\n",
      "166   6969  0.199201   0.516667   0.771429  0.414851     fracture\n",
      "167   5505  0.358413   0.566667   0.685714  0.418517     fracture\n",
      "168     71  0.645654   0.541667   0.657143  0.480519     fracture\n",
      "\n",
      "[169 rows x 6 columns]\n"
     ]
    }
   ],
   "source": [
    "from sklearn.preprocessing import MinMaxScaler\n",
    "\n",
    "min_max_scale = MinMaxScaler()\n",
    "df[['age', 'weight_kg','height_cm','bmd']] = min_max_scale.fit_transform(df[['age', 'weight_kg','height_cm','bmd']])\n",
    "\n",
    "print(df)"
   ]
  },
  {
   "cell_type": "markdown",
   "metadata": {},
   "source": [
    "The resulting normalized values represent the original data on 0 to 1 scale. So, 'age', 'weight_kg','height_cm','bmd' will all be on the same scale after normalization.\n",
    "\n",
    "NOTE: In min-max normalization, the min value gets transformed into 0 and the max value gets transformed into 1. All values in-between get scaled to be within 0-1 range based on the original value relative to min and max values of the dataset."
   ]
  },
  {
   "cell_type": "markdown",
   "metadata": {},
   "source": [
    "## 2. Class Imbalance"
   ]
  },
  {
   "cell_type": "code",
   "execution_count": 155,
   "metadata": {},
   "outputs": [
    {
     "data": {
      "text/plain": [
       "no fracture    119\n",
       "fracture        50\n",
       "Name: fracture, dtype: int64"
      ]
     },
     "execution_count": 155,
     "metadata": {},
     "output_type": "execute_result"
    }
   ],
   "source": [
    "# To see the distribution of the dataset.\n",
    "df.fracture.value_counts()"
   ]
  },
  {
   "cell_type": "markdown",
   "metadata": {},
   "source": [
    "## Imbalanced dataset - 119 and 50. One class has more weight than the other class.\n",
    "\n",
    "To handle imbalanced dataset, we can:\n",
    "* Reduce the size of larger class\n",
    "* Add to smaller class\n"
   ]
  },
  {
   "cell_type": "markdown",
   "metadata": {},
   "source": [
    "### In this analysis, we will reduce the size of larger class.\n"
   ]
  },
  {
   "cell_type": "code",
   "execution_count": 156,
   "metadata": {},
   "outputs": [
    {
     "data": {
      "text/html": [
       "<div>\n",
       "<style scoped>\n",
       "    .dataframe tbody tr th:only-of-type {\n",
       "        vertical-align: middle;\n",
       "    }\n",
       "\n",
       "    .dataframe tbody tr th {\n",
       "        vertical-align: top;\n",
       "    }\n",
       "\n",
       "    .dataframe thead th {\n",
       "        text-align: right;\n",
       "    }\n",
       "</style>\n",
       "<table border=\"1\" class=\"dataframe\">\n",
       "  <thead>\n",
       "    <tr style=\"text-align: right;\">\n",
       "      <th></th>\n",
       "      <th>id</th>\n",
       "      <th>age</th>\n",
       "      <th>weight_kg</th>\n",
       "      <th>height_cm</th>\n",
       "      <th>bmd</th>\n",
       "      <th>fracture</th>\n",
       "    </tr>\n",
       "  </thead>\n",
       "  <tbody>\n",
       "    <tr>\n",
       "      <th>68</th>\n",
       "      <td>8896</td>\n",
       "      <td>0.298122</td>\n",
       "      <td>0.300000</td>\n",
       "      <td>0.342857</td>\n",
       "      <td>0.385316</td>\n",
       "      <td>no fracture</td>\n",
       "    </tr>\n",
       "    <tr>\n",
       "      <th>111</th>\n",
       "      <td>23790</td>\n",
       "      <td>0.314778</td>\n",
       "      <td>0.383333</td>\n",
       "      <td>0.242857</td>\n",
       "      <td>0.339129</td>\n",
       "      <td>no fracture</td>\n",
       "    </tr>\n",
       "    <tr>\n",
       "      <th>40</th>\n",
       "      <td>55</td>\n",
       "      <td>0.706773</td>\n",
       "      <td>0.266667</td>\n",
       "      <td>0.314286</td>\n",
       "      <td>0.319648</td>\n",
       "      <td>no fracture</td>\n",
       "    </tr>\n",
       "    <tr>\n",
       "      <th>49</th>\n",
       "      <td>5509</td>\n",
       "      <td>0.775407</td>\n",
       "      <td>0.866667</td>\n",
       "      <td>0.714286</td>\n",
       "      <td>0.622015</td>\n",
       "      <td>no fracture</td>\n",
       "    </tr>\n",
       "    <tr>\n",
       "      <th>83</th>\n",
       "      <td>8999</td>\n",
       "      <td>0.461327</td>\n",
       "      <td>0.566667</td>\n",
       "      <td>0.457143</td>\n",
       "      <td>0.448890</td>\n",
       "      <td>no fracture</td>\n",
       "    </tr>\n",
       "  </tbody>\n",
       "</table>\n",
       "</div>"
      ],
      "text/plain": [
       "        id       age  weight_kg  height_cm       bmd     fracture\n",
       "68    8896  0.298122   0.300000   0.342857  0.385316  no fracture\n",
       "111  23790  0.314778   0.383333   0.242857  0.339129  no fracture\n",
       "40      55  0.706773   0.266667   0.314286  0.319648  no fracture\n",
       "49    5509  0.775407   0.866667   0.714286  0.622015  no fracture\n",
       "83    8999  0.461327   0.566667   0.457143  0.448890  no fracture"
      ]
     },
     "execution_count": 156,
     "metadata": {},
     "output_type": "execute_result"
    }
   ],
   "source": [
    "df_majority = df[df['fracture'] == 'no fracture']\n",
    "df_minority = df[df['fracture'] == 'fracture']\n",
    "\n",
    "\n",
    "from sklearn.utils import resample\n",
    "\n",
    "df_majority_downsampled = resample(df_majority, replace=False, n_samples=len(df_minority), random_state=96) \n",
    "\n",
    "# Combining minority class with downsampled majority class\n",
    "df_downsampled = pd.concat([df_majority_downsampled, df_minority])\n",
    "df_downsampled.head()"
   ]
  },
  {
   "cell_type": "code",
   "execution_count": 157,
   "metadata": {},
   "outputs": [
    {
     "data": {
      "text/plain": [
       "no fracture    50\n",
       "fracture       50\n",
       "Name: fracture, dtype: int64"
      ]
     },
     "execution_count": 157,
     "metadata": {},
     "output_type": "execute_result"
    }
   ],
   "source": [
    "df_downsampled.fracture.value_counts()"
   ]
  },
  {
   "cell_type": "markdown",
   "metadata": {},
   "source": [
    "Now we have a perfectly balanced data."
   ]
  },
  {
   "cell_type": "markdown",
   "metadata": {},
   "source": [
    "# Split to X & Y"
   ]
  },
  {
   "cell_type": "code",
   "execution_count": 158,
   "metadata": {},
   "outputs": [],
   "source": [
    "# Set Features and Target Variable\n",
    "x = df_downsampled[['age', 'weight_kg','height_cm','bmd']]\n",
    "y = df_downsampled['fracture']"
   ]
  },
  {
   "cell_type": "markdown",
   "metadata": {},
   "source": [
    "#### Diff between RF and Logistic \n",
    "\n",
    "- RF good with large dataset. LR, not. "
   ]
  },
  {
   "cell_type": "markdown",
   "metadata": {},
   "source": [
    "\n",
    "## Random Forrest: \n",
    "* Ensemble of decision trees.\n",
    "* n_estimator = number of trees (usually in the range 5-10, atmost 20)\n",
    "* Reduces overfit\n",
    "\n",
    "NOTE: Gives random/different outcome hence the name 'Random' Forrest. Gives different output when you re-run it. Or if the order fo the data has changed. \n",
    "\n",
    "\n",
    "* RF looks at majority outcome. DT = 2 apples, 1 pear. Then go with apple. \n",
    "\n",
    "\n",
    "#### Tree\n",
    "1. Root node ie entry point (Data input)\n",
    "2. Decision Node\n",
    "3. Lead node ie final outcome.\n",
    "\n",
    "\n",
    "\n",
    "\n",
    "## Hyperparameters: \n",
    "\n",
    "* n_estimators : number of trees in the forest. Increasing the number of trees can improve the performance of the model, but it also increases the computation time. In general, a higher number of trees leads to better performance, but it also requires more computational resources.\n",
    "\n",
    "* max_depth controls the maximum depth of each decision tree in the forest. Setting a maximum depth helps to prevent the tree from becoming too complex and overfitting."
   ]
  },
  {
   "cell_type": "markdown",
   "metadata": {},
   "source": [
    "# Create the RF Classifier "
   ]
  },
  {
   "cell_type": "markdown",
   "metadata": {},
   "source": [
    "## 1. Tree value for classification = 10."
   ]
  },
  {
   "cell_type": "code",
   "execution_count": 161,
   "metadata": {},
   "outputs": [],
   "source": [
    "rf1 = RandomForestClassifier(n_estimators=10, random_state=58)\n",
    "\n",
    "#rf1 = RandomForestClassifier(n_estimators=10)"
   ]
  },
  {
   "cell_type": "markdown",
   "metadata": {},
   "source": [
    "# Model Fitting"
   ]
  },
  {
   "cell_type": "code",
   "execution_count": 162,
   "metadata": {},
   "outputs": [
    {
     "data": {
      "text/plain": [
       "RandomForestClassifier(n_estimators=10, random_state=58)"
      ]
     },
     "execution_count": 162,
     "metadata": {},
     "output_type": "execute_result"
    }
   ],
   "source": [
    "# Fit the model\n",
    "rf1.fit(x,y)"
   ]
  },
  {
   "cell_type": "markdown",
   "metadata": {},
   "source": [
    "# Prediction on Test data"
   ]
  },
  {
   "cell_type": "code",
   "execution_count": 163,
   "metadata": {},
   "outputs": [],
   "source": [
    "y_pred1 = rf1.predict(x)"
   ]
  },
  {
   "cell_type": "code",
   "execution_count": 164,
   "metadata": {},
   "outputs": [
    {
     "data": {
      "image/png": "[encoded data removed]",
      "text/plain": [
       "<Figure size 432x288 with 2 Axes>"
      ]
     },
     "metadata": {
      "needs_background": "light"
     },
     "output_type": "display_data"
    }
   ],
   "source": [
    "confusion_matrix = pd.crosstab(y, y_pred1, rownames=['Actual'], colnames=['Predicted'])\n",
    "#print(confusion_matrix)\n",
    "\n",
    "sns.heatmap(confusion_matrix, annot=True)\n",
    "plt.title('When n_estimators=10')\n",
    "\n",
    "plt.show()"
   ]
  },
  {
   "cell_type": "markdown",
   "metadata": {},
   "source": [
    "## 50+49 correct predictions (99 correctly clasified patients) and 1+0 incorrect predictions (1 incorrectly classified patients).\n",
    "\n",
    "From the confusion matrix, we can see that the RF algorithm classified 50 correct predictions for the \"fracture\" class and 49 correct predictions for the \"no fracture\" class. It made 1 incorrect predictions for the \"fracture\" class, which were classified as \"no fracture\", and 0 incorrect predictiOns for the \"no fracture\" class, which were classified as \"fracture\"."
   ]
  },
  {
   "cell_type": "markdown",
   "metadata": {},
   "source": [
    "\n",
    "\n",
    "# Evaluate the Model\n",
    "\n",
    "* Accuracy Score\n",
    "* Classification report"
   ]
  },
  {
   "cell_type": "code",
   "execution_count": 165,
   "metadata": {},
   "outputs": [
    {
     "name": "stdout",
     "output_type": "stream",
     "text": [
      "Accuracy of Random Forest model with 10 trees: 0.99\n"
     ]
    }
   ],
   "source": [
    "# Calculate accuracy of the model\n",
    "\n",
    "accuracy = accuracy_score(y, y_pred1)\n",
    "print('Accuracy of Random Forest model with 10 trees:', accuracy)"
   ]
  },
  {
   "cell_type": "code",
   "execution_count": 166,
   "metadata": {},
   "outputs": [
    {
     "name": "stdout",
     "output_type": "stream",
     "text": [
      "              precision    recall  f1-score   support\n",
      "\n",
      "    fracture       0.98      1.00      0.99        50\n",
      " no fracture       1.00      0.98      0.99        50\n",
      "\n",
      "    accuracy                           0.99       100\n",
      "   macro avg       0.99      0.99      0.99       100\n",
      "weighted avg       0.99      0.99      0.99       100\n",
      "\n"
     ]
    }
   ],
   "source": [
    "print(classification_report(y, y_pred1))"
   ]
  },
  {
   "cell_type": "markdown",
   "metadata": {},
   "source": [
    "## When n_estimators = 10\n",
    "#### Precision:\n",
    "\n",
    "* Fracture class, precision is 0.98 ie. 98% of the cases predicted as fracture were actually fracture.\n",
    "* No fracture class, precision is 1.0 ie. 100% of the cases predicted as no fracture were actually no fracture.\n",
    "\n",
    "#### Recall:\n",
    "* Fracture class, recall is 1.0 ie. 100% of the actual fracture cases were correctly identified.\n",
    "* No fracture class, recall is 0.98 ie. 98% of the actual no fracture cases were correctly identified.\n",
    "\n",
    "#### F1-score:\n",
    "* Fracture class, F1-score is 0.99\n",
    "* No fracture class, F1-score is 0.99.\n",
    "\n",
    "Accuracy: The model has an accuracy of 99% which means it correctly predicted \"fracture\" or \"no fracture\" in 99 out of 100 patients.\n",
    "\n",
    "The model's performance is almost perfect with an accuracy of 0.99."
   ]
  },
  {
   "cell_type": "markdown",
   "metadata": {},
   "source": [
    "## 2. Tree value for classification = 20\n"
   ]
  },
  {
   "cell_type": "code",
   "execution_count": 167,
   "metadata": {},
   "outputs": [],
   "source": [
    "# Create RF model\n",
    "rf2 = RandomForestClassifier(n_estimators=20, random_state=52)\n",
    "\n",
    "# Fit the model\n",
    "rf2.fit(x,y)\n",
    "\n",
    "# Predict\n",
    "y_pred2 = rf2.predict(x)"
   ]
  },
  {
   "cell_type": "code",
   "execution_count": 168,
   "metadata": {},
   "outputs": [
    {
     "data": {
      "image/png": "[encoded data removed]",
      "text/plain": [
       "<Figure size 432x288 with 2 Axes>"
      ]
     },
     "metadata": {
      "needs_background": "light"
     },
     "output_type": "display_data"
    }
   ],
   "source": [
    "confusion_matrix = pd.crosstab(y, y_pred2, rownames=['Actual'], colnames=['Predicted'])\n",
    "#print(confusion_matrix)\n",
    "\n",
    "sns.heatmap(confusion_matrix, annot=True)\n",
    "plt.title('When n_estimators=20')\n",
    "\n",
    "plt.show()"
   ]
  },
  {
   "cell_type": "markdown",
   "metadata": {},
   "source": [
    "## 50+50 correct predictions (100 correctly clasified patients) and 0+0 incorrect predictions (0 incorrectly classified patients).\n",
    "\n",
    "From the confusion matrix, we can see that the RF algorithm classified 50 correct predictions for the \"fracture\" class and 50 correct predictions for the \"no fracture\" class. It made 0 incorrect predictions for the \"fracture\" class, which were classified as \"no fracture\", and 0 incorrect predictions for the \"no fracture\" class, which were classified as \"fracture\"."
   ]
  },
  {
   "cell_type": "code",
   "execution_count": 170,
   "metadata": {},
   "outputs": [
    {
     "name": "stdout",
     "output_type": "stream",
     "text": [
      "Accuracy of Random Forest model with 20 trees: 1.0\n"
     ]
    }
   ],
   "source": [
    "# Calculate accuracy of the model\n",
    "\n",
    "accuracy = accuracy_score(y, y_pred2)\n",
    "print('Accuracy of Random Forest model with 20 trees:', accuracy)"
   ]
  },
  {
   "cell_type": "code",
   "execution_count": 171,
   "metadata": {},
   "outputs": [
    {
     "name": "stdout",
     "output_type": "stream",
     "text": [
      "              precision    recall  f1-score   support\n",
      "\n",
      "    fracture       1.00      1.00      1.00        50\n",
      " no fracture       1.00      1.00      1.00        50\n",
      "\n",
      "    accuracy                           1.00       100\n",
      "   macro avg       1.00      1.00      1.00       100\n",
      "weighted avg       1.00      1.00      1.00       100\n",
      "\n"
     ]
    }
   ],
   "source": [
    "print(classification_report(y, y_pred2))"
   ]
  },
  {
   "cell_type": "markdown",
   "metadata": {},
   "source": [
    "## When n_estimators = 20\n",
    "\n",
    "#### Precision:\n",
    "\n",
    "* Fracture class, precision is 1.0 ie. 100% of the cases predicted as fracture were actually fracture.\n",
    "* No fracture class, precision is 1.0 ie. 100% of the cases predicted as no fracture were actually no fracture.\n",
    "\n",
    "#### Recall:\n",
    "* Fracture class, recall is 1.0 ie. 100% of the actual fracture cases were correctly identified.\n",
    "* No fracture class, recall is 1.0 ie. 100% of the actual no fracture cases were correctly identified.\n",
    "\n",
    "#### F1-score:\n",
    "* Fracture class, F1-score is 1.0.\n",
    "* No fracture class, F1-score is 1.0.\n",
    "\n",
    "Accuracy: The model has an accuracy of 100% which means it correctly predicted \"fracture\" or \"no fracture\" in 100 out of 100 patients.\n",
    "\n",
    "The model's performance is perfect with an accuracy of 1.0."
   ]
  },
  {
   "cell_type": "markdown",
   "metadata": {},
   "source": [
    "# Accuracy of each tree value:\n",
    "\n",
    "## 1. n_estimators = 10\n",
    "\n",
    "* Accuracy Score: 0.99\n",
    "\n",
    "## 2. n_estimators = 20\n",
    "\n",
    "* Accuracy Score: 1.0\n",
    "\n",
    "\n",
    "The model with 20 trees achieved a perfect accuracy score of 1.0, while the model with 10 trees achieved an accuracy score of 0.99. This suggests that the model with 10 trees is already very accurate and that increasing the number of trees to 20 may not be worth the additional computational cost, especially given the small improvement in accuracy. Therefore, it makes sense to use the model with 10 trees as it is almost at 100% accuracy and is sufficient."
   ]
  },
  {
   "cell_type": "markdown",
   "metadata": {},
   "source": [
    "# Comparison of RF, LR & KNN:\n",
    "\n",
    "\n",
    "## 1. In terms of Accuracy Score\n",
    "\n",
    "* RN (10 Trees): 0.99\n",
    "* KNN(when k=7): 0.88\n",
    "* LR: 0.80\n",
    "\n",
    " Therefore, Random Forrest with 10 trees performed better than LR & KNN in terms of accuracy score.\n",
    "\n",
    "## 2. In terms of classfications:\n",
    "\n",
    "#### Correct Classifications:\n",
    "\n",
    "* RN (10 Trees): 99 correct predictions\n",
    "* KNN(when k=7):88 \n",
    "* LR: 80\n",
    "\n",
    "\n",
    "#### Incorrect/Missclassifications:\n",
    "\n",
    "* RN (10 Trees): 1 incorrect predictions\n",
    "* KNN(when k=7): 12 \n",
    "* LR: 20\n",
    "\n",
    "So, Random Forrest with 10 trees has more correct classifications & less missclssifications compared to LR & KNN. Hence, Random Forrest is the better model!"
   ]
  }
 ],
 "metadata": {
  "kernelspec": {
   "display_name": "Python 3",
   "language": "python",
   "name": "python3"
  },
  "language_info": {
   "codemirror_mode": {
    "name": "ipython",
    "version": 3
   },
   "file_extension": ".py",
   "mimetype": "text/x-python",
   "name": "python",
   "nbconvert_exporter": "python",
   "pygments_lexer": "ipython3",
   "version": "3.8.5"
  }
 },
 "nbformat": 4,
 "nbformat_minor": 4
}
